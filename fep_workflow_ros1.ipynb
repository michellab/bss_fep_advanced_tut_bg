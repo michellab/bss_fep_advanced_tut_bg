{
 "cells": [
  {
   "cell_type": "markdown",
   "metadata": {},
   "source": [
    "# Basic depiction of a FEP workflow using BioSimSpace and Python"
   ]
  },
  {
   "cell_type": "code",
   "execution_count": 1,
   "metadata": {},
   "outputs": [
    {
     "name": "stdout",
     "output_type": "stream",
     "text": [
      "\n",
      "==============================================================\n",
      "Sending anonymous Sire usage statistics to http://siremol.org.\n",
      "For more information, see http://siremol.org/analytics\n",
      "To disable, set the environment variable 'SIRE_DONT_PHONEHOME' to 1\n",
      "To see the information sent, set the environment variable \n",
      "SIRE_VERBOSE_PHONEHOME equal to 1. To silence this message, set\n",
      "the environment variable SIRE_SILENT_PHONEHOME to 1.\n",
      "==============================================================\n",
      "\n"
     ]
    },
    {
     "data": {
      "text/plain": [
       "'2020.1.0+58.g817f66f'"
      ]
     },
     "execution_count": 1,
     "metadata": {},
     "output_type": "execute_result"
    }
   ],
   "source": [
    "import BioSimSpace as BSS\n",
    "import glob\n",
    "\n",
    "BSS.__version__"
   ]
  },
  {
   "cell_type": "markdown",
   "metadata": {},
   "source": [
    "## 1. Load ligands and protein into memory."
   ]
  },
  {
   "cell_type": "markdown",
   "metadata": {},
   "source": [
    "Loading ligands and protein structures can be done using BSS API."
   ]
  },
  {
   "cell_type": "code",
   "execution_count": 12,
   "metadata": {},
   "outputs": [
    {
     "name": "stdout",
     "output_type": "stream",
     "text": [
      "Number of loaded ligands: 20\n"
     ]
    }
   ],
   "source": [
    "path_to_protein = \"inputs/protein/ROS1.pdb\"\n",
    "path_to_ligands = \"inputs/ligands/*.mol2\"\n",
    "\n",
    "# load the protein.\n",
    "protein = BSS.IO.readPDB(path_to_protein)\n",
    "\n",
    "# loading all the ligands is a bit more involved. The simplest way is to glob over all ligand paths\n",
    "# and load them into a dictionary so that we can pick molecules when we set up edges later on.\n",
    "ligands_dict = {}\n",
    "for ligand_path in glob.glob(path_to_ligands):\n",
    "    \n",
    "    # first, derive the ligand name.\n",
    "    ligand_name = ligand_path.split(\"/\")[-1].replace(\".mol2\", \"\")\n",
    "    \n",
    "    # make an entry in our dictionary with the ligand name and the loaded molecule.\n",
    "    ligands_dict[ligand_name] = BSS.IO.readMolecules(ligand_path)\n",
    "    \n",
    "print(\"Number of loaded ligands:\", len(ligands_dict))"
   ]
  },
  {
   "cell_type": "markdown",
   "metadata": {},
   "source": [
    "## 2. Parameterise protein and ligands.\n"
   ]
  },
  {
   "cell_type": "code",
   "execution_count": 4,
   "metadata": {},
   "outputs": [],
   "source": [
    "# parameterise the proteins with a force field of choice. We'll go with ff99SB.\n",
    "protein_p = BSS.Parameters.ff99SB(protein)\n",
    "\n",
    "# parameterise the ligands. To keep it clean we'll just take each ligand key, and \n",
    "# replace its value molecule by the parameterised version.\n",
    "for ligand_name, molecule in ligands_dict.items():\n",
    "    \n",
    "    # replace the value molecule in the dict with the parameterised version.\n",
    "    molecule_p = BSS.Parameters.gaff2(molecule)\n",
    "    ligands_dict[ligand_name] = molecule_p\n"
   ]
  },
  {
   "cell_type": "markdown",
   "metadata": {},
   "source": [
    "## 3. Determine which edges to run using LOMAP.\n"
   ]
  },
  {
   "cell_type": "code",
   "execution_count": 5,
   "metadata": {},
   "outputs": [],
   "source": [
    "# here we would do either manual edge selection or using LOMAP (link to github). For our purposes we'll \n",
    "# use a set of pre-selected edges.\n",
    "\n",
    "## tmp way of selecting edges is by checking out the freenrgworkflows output file that we have on ROS1.\n",
    "transformations = []\n",
    "with open(\"outputs/summary.csv\", \"r\") as summaryfile:\n",
    "    for row in summaryfile:\n",
    "        if row.startswith(\"ROS\"):\n",
    "            pert = row.split(\",\")[:2]\n",
    "            transformations.append(pert)\n"
   ]
  },
  {
   "cell_type": "markdown",
   "metadata": {},
   "source": [
    "## 4. Set up SOMD simulation folders.\n"
   ]
  },
  {
   "cell_type": "code",
   "execution_count": 12,
   "metadata": {},
   "outputs": [],
   "source": [
    "# Define the Free Energy protocol. Here we use BSS's standard settings.\n",
    "# see https://biosimspace.org/api/generated/BioSimSpace.Protocol.FreeEnergy.html#BioSimSpace.Protocol.FreeEnergy \n",
    "protocol = BSS.Protocol.FreeEnergy()"
   ]
  },
  {
   "cell_type": "code",
   "execution_count": 13,
   "metadata": {},
   "outputs": [],
   "source": [
    "# We can loop over each transformation and do the standard BSS setup protocol.\n",
    "for pert in transformations:\n",
    "    # derive the perturbation name (to name our simulation folder).\n",
    "    pert_name = pert[0]+\"~\"+pert[1]\n",
    "    \n",
    "    # get the molecule objects from our dictionary.\n",
    "    ligand_A = ligands_dict[pert[0]]\n",
    "    ligand_B = ligands_dict[pert[1]]\n",
    "    \n",
    "    # generate a mapping between the two molecules.\n",
    "    mapping = BSS.Align.matchAtoms(ligand_A, ligand_B)\n",
    "    \n",
    "    # align ligand A to ligand B.\n",
    "    ligand_A_a = BSS.Align.rmsdAlign(ligand_A, ligand_B, mapping)\n",
    "    \n",
    "    # merge the aligned molecules into a single object.\n",
    "    merged = BSS.Align.merge(ligand_A_a, ligand_B, mapping,\n",
    "                                        allow_ring_breaking=True,\n",
    "                                        allow_ring_size_change=True\n",
    "                                        )\n",
    "    \n",
    "    # insert the merged molecules into the protein and solvate the system.\n",
    "    system = protein_p + merged\n",
    "    system_s = BSS.Solvent.tip3p(molecule=system, box=3*[10*BSS.Units.Length.nanometer])\n",
    "    \n",
    "    # set up a SOMD folder with standard settings.\n",
    "    # if you want to run replicates here, a simple iteration loop that with work_dir=pert_name+str(i) would work.\n",
    "    BSS.FreeEnergy.Binding(\n",
    "                                            system_s, \n",
    "                                            protocol, \n",
    "                                            engine=\"SOMD\",\n",
    "                                            work_dir=pert_name\n",
    "                                            )"
   ]
  },
  {
   "cell_type": "markdown",
   "metadata": {},
   "source": [
    "## 5. Run simulations & gather MBAR results from simulation outputs."
   ]
  },
  {
   "cell_type": "markdown",
   "metadata": {},
   "source": [
    "The collection of set up SOMD folders can be run in parallel on e.g. a computing cluster with slurm. An example job script for such a system would like this:"
   ]
  },
  {
   "cell_type": "code",
   "execution_count": 14,
   "metadata": {},
   "outputs": [],
   "source": [
    "## insert slurm script here. Preferably this will be a script that loads the SOMD env, \n",
    "# does freenrg.run() and freenrg.analyse() (does analyse write out freenrg-MBAR.dat files?)\n",
    "\n",
    "# if that implementation is too complex, I always run ~/biosimspace.app/bin/somd-freenrg and subsequently mbar\n",
    "# directly in each lambda folder. "
   ]
  },
  {
   "cell_type": "markdown",
   "metadata": {},
   "source": [
    "## 6. Compute statistics and plot validations."
   ]
  },
  {
   "cell_type": "code",
   "execution_count": null,
   "metadata": {},
   "outputs": [],
   "source": [
    "# use freenrgworkflows? might be easy to build into BSS. Otherwise a standard set of functions using basic plt\n",
    "# could work too. "
   ]
  }
 ],
 "metadata": {
  "kernelspec": {
   "display_name": "Python 3",
   "language": "python",
   "name": "python3"
  },
  "language_info": {
   "codemirror_mode": {
    "name": "ipython",
    "version": 3
   },
   "file_extension": ".py",
   "mimetype": "text/x-python",
   "name": "python",
   "nbconvert_exporter": "python",
   "pygments_lexer": "ipython3",
   "version": "3.7.9"
  }
 },
 "nbformat": 4,
 "nbformat_minor": 5
}
