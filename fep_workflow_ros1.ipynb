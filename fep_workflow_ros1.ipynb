{
 "cells": [
  {
   "cell_type": "markdown",
   "id": "periodic-trade",
   "metadata": {},
   "source": [
    "# Basic depiction of a FEP workflow"
   ]
  },
  {
   "cell_type": "code",
   "execution_count": 6,
   "id": "formed-mortality",
   "metadata": {},
   "outputs": [
    {
     "data": {
      "text/plain": [
       "'2020.1.0'"
      ]
     },
     "execution_count": 6,
     "metadata": {},
     "output_type": "execute_result"
    }
   ],
   "source": [
    "import BioSimSpace as BSS\n",
    "import glob\n",
    "\n",
    "BSS.__version__"
   ]
  },
  {
   "cell_type": "markdown",
   "id": "micro-member",
   "metadata": {},
   "source": [
    "## 1. Load ligands and protein into memory."
   ]
  },
  {
   "cell_type": "markdown",
   "id": "touched-christian",
   "metadata": {},
   "source": [
    "Loading ligands and protein structures can be done using BSS API."
   ]
  },
  {
   "cell_type": "code",
   "execution_count": 11,
   "id": "developmental-liberty",
   "metadata": {},
   "outputs": [
    {
     "ename": "FileNotFoundError",
     "evalue": "[Errno 2] No such file or directory: '/tmp/tmph8011xru/INPUTS/PROTEIN/ROS1.pdb'",
     "output_type": "error",
     "traceback": [
      "\u001b[0;31m---------------------------------------------------------------------------\u001b[0m",
      "\u001b[0;31mFileNotFoundError\u001b[0m                         Traceback (most recent call last)",
      "\u001b[0;32m<ipython-input-11-01924b2aa0e9>\u001b[0m in \u001b[0;36m<module>\u001b[0;34m\u001b[0m\n\u001b[1;32m      3\u001b[0m \u001b[0;34m\u001b[0m\u001b[0m\n\u001b[1;32m      4\u001b[0m \u001b[0;31m# load the protein.\u001b[0m\u001b[0;34m\u001b[0m\u001b[0;34m\u001b[0m\u001b[0;34m\u001b[0m\u001b[0m\n\u001b[0;32m----> 5\u001b[0;31m \u001b[0mprotein\u001b[0m \u001b[0;34m=\u001b[0m \u001b[0mBSS\u001b[0m\u001b[0;34m.\u001b[0m\u001b[0mIO\u001b[0m\u001b[0;34m.\u001b[0m\u001b[0mreadPDB\u001b[0m\u001b[0;34m(\u001b[0m\u001b[0mprotein_path\u001b[0m\u001b[0;34m)\u001b[0m\u001b[0;34m\u001b[0m\u001b[0;34m\u001b[0m\u001b[0m\n\u001b[0m\u001b[1;32m      6\u001b[0m \u001b[0mprotein\u001b[0m\u001b[0;34m\u001b[0m\u001b[0;34m\u001b[0m\u001b[0m\n",
      "\u001b[0;32m~/miniconda3/envs/sire/lib/python3.7/site-packages/BioSimSpace/IO/_io.py\u001b[0m in \u001b[0;36mreadPDB\u001b[0;34m(id, property_map)\u001b[0m\n\u001b[1;32m    198\u001b[0m \u001b[0;34m\u001b[0m\u001b[0m\n\u001b[1;32m    199\u001b[0m     \u001b[0;31m# Now write the PDB string to file.\u001b[0m\u001b[0;34m\u001b[0m\u001b[0;34m\u001b[0m\u001b[0;34m\u001b[0m\u001b[0m\n\u001b[0;32m--> 200\u001b[0;31m     \u001b[0;32mwith\u001b[0m \u001b[0mopen\u001b[0m\u001b[0;34m(\u001b[0m\u001b[0mpdb_file\u001b[0m\u001b[0;34m,\u001b[0m \u001b[0;34m\"w\"\u001b[0m\u001b[0;34m)\u001b[0m \u001b[0;32mas\u001b[0m \u001b[0mfile\u001b[0m\u001b[0;34m:\u001b[0m\u001b[0;34m\u001b[0m\u001b[0;34m\u001b[0m\u001b[0m\n\u001b[0m\u001b[1;32m    201\u001b[0m         \u001b[0mfile\u001b[0m\u001b[0;34m.\u001b[0m\u001b[0mwrite\u001b[0m\u001b[0;34m(\u001b[0m\u001b[0mpdb_string\u001b[0m\u001b[0;34m)\u001b[0m\u001b[0;34m\u001b[0m\u001b[0;34m\u001b[0m\u001b[0m\n\u001b[1;32m    202\u001b[0m \u001b[0;34m\u001b[0m\u001b[0m\n",
      "\u001b[0;31mFileNotFoundError\u001b[0m: [Errno 2] No such file or directory: '/tmp/tmph8011xru/INPUTS/PROTEIN/ROS1.pdb'"
     ]
    }
   ],
   "source": [
    "protein_path = \"inputs/protein/ros1\"\n",
    "ligands_path = \"inputs/ligands/*.mol2\"\n",
    "\n",
    "# load the protein.\n",
    "protein = BSS.IO.readPDB(protein_path)\n",
    "protein"
   ]
  },
  {
   "cell_type": "markdown",
   "id": "legitimate-print",
   "metadata": {},
   "source": [
    "## 2. Parameterise ligands and protein.\n"
   ]
  },
  {
   "cell_type": "code",
   "execution_count": null,
   "id": "extreme-dollar",
   "metadata": {},
   "outputs": [],
   "source": []
  },
  {
   "cell_type": "markdown",
   "id": "ordered-freight",
   "metadata": {},
   "source": [
    "## 3. Determine which edges to run using LOMAP.\n"
   ]
  },
  {
   "cell_type": "code",
   "execution_count": null,
   "id": "viral-finnish",
   "metadata": {},
   "outputs": [],
   "source": []
  },
  {
   "cell_type": "markdown",
   "id": "gorgeous-linux",
   "metadata": {},
   "source": [
    "## 4. Set up SOMD simulation folders.\n"
   ]
  },
  {
   "cell_type": "code",
   "execution_count": null,
   "id": "architectural-webmaster",
   "metadata": {},
   "outputs": [],
   "source": []
  },
  {
   "cell_type": "markdown",
   "id": "distant-secretariat",
   "metadata": {},
   "source": [
    "## 5. Gather MBAR results from simulation outputs."
   ]
  },
  {
   "cell_type": "code",
   "execution_count": null,
   "id": "terminal-leader",
   "metadata": {},
   "outputs": [],
   "source": []
  },
  {
   "cell_type": "markdown",
   "id": "incoming-paper",
   "metadata": {},
   "source": [
    "Here insert a BSS snippet that will somehow take SOMD folders, load them, compute freenrg and MBAR. "
   ]
  },
  {
   "cell_type": "markdown",
   "id": "boxed-leonard",
   "metadata": {},
   "source": [
    "## 6. Compute statistics and plot validations."
   ]
  },
  {
   "cell_type": "code",
   "execution_count": null,
   "id": "worthy-potential",
   "metadata": {},
   "outputs": [],
   "source": []
  }
 ],
 "metadata": {
  "kernelspec": {
   "display_name": "Python 3",
   "language": "python",
   "name": "python3"
  },
  "language_info": {
   "codemirror_mode": {
    "name": "ipython",
    "version": 3
   },
   "file_extension": ".py",
   "mimetype": "text/x-python",
   "name": "python",
   "nbconvert_exporter": "python",
   "pygments_lexer": "ipython3",
   "version": "3.7.8"
  }
 },
 "nbformat": 4,
 "nbformat_minor": 5
}
