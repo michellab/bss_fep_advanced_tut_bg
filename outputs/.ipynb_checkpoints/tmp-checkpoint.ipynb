{
 "cells": [
  {
   "cell_type": "markdown",
   "id": "atmospheric-easter",
   "metadata": {},
   "source": [
    "# Analyse FEP outputs\n",
    "## 1. Load FEP output data."
   ]
  },
  {
   "cell_type": "code",
   "execution_count": 1,
   "id": "pleasant-effectiveness",
   "metadata": {},
   "outputs": [
    {
     "name": "stdout",
     "output_type": "stream",
     "text": [
      "Populating the interactive namespace from numpy and matplotlib\n"
     ]
    },
    {
     "data": {
      "text/plain": [
       "'1.1.0'"
      ]
     },
     "execution_count": 1,
     "metadata": {},
     "output_type": "execute_result"
    }
   ],
   "source": [
    "    %pylab inline\n",
    "    import networkanalysis.networkanalysis as n_graph\n",
    "    import networkanalysis.plotting as n_plot\n",
    "    import networkanalysis.experiments as n_ex\n",
    "    import networkanalysis.stats as n_stats\n",
    "    import networkanalysis\n",
    "    \n",
    "    import pandas as pd \n",
    "    networkanalysis.__version__"
   ]
  },
  {
   "cell_type": "markdown",
   "id": "exterior-cigarette",
   "metadata": {},
   "source": [
    "Now that we have run all our simulations (which should have appended results to a file - in our case \"summary.csv\"), we can start analysing our results. Additionally, we would like to compare our predictions to experimental measures."
   ]
  },
  {
   "cell_type": "code",
   "execution_count": 2,
   "id": "dedicated-neighborhood",
   "metadata": {},
   "outputs": [],
   "source": [
    "results_filepath = '../outputs/summary.csv'\n",
    "exp_filepath = '../inputs/ic50_exp.dat'"
   ]
  },
  {
   "cell_type": "markdown",
   "id": "broke-lottery",
   "metadata": {},
   "source": [
    "We use FreeNrgWorkFlows (https://github.com/michellab/freenrgworkflows) to analyse our predictions. Instead of just computing $\\Delta\\Delta$G values for each transformation, we would like to estimate the $\\Delta$G value for each individual ligand. There are some involved algorithms needed for these steps which is what FreeNrgWorkFlows takes care of for us."
   ]
  },
  {
   "cell_type": "code",
   "execution_count": 3,
   "id": "forced-target",
   "metadata": {},
   "outputs": [],
   "source": [
    "# Creating the perturbation network to do calculations on.\n",
    "pG = n_graph.PerturbationGraph()\n",
    "\n",
    "# Populate the network with our simulation results.\n",
    "pG.populate_pert_graph(results_filepath)\n",
    "\n",
    "# Uncomment below if you have run multiple runs for some perturbations and add file path\n",
    "#pG.add_data_to_graph('/path/to/additional/runs.csv')"
   ]
  },
  {
   "cell_type": "markdown",
   "id": "separate-filling",
   "metadata": {},
   "source": [
    "To estimate $\\Delta$G values for individual compounds, we need to pick a reference compound. Often in industrial FEP programs this would be the ligand that is being optimised - for this example we can just pick the first ligand in our collection. \n",
    "\n",
    "<mark>CURRENTLY RANDOM PREDS</mark>"
   ]
  },
  {
   "cell_type": "code",
   "execution_count": 4,
   "id": "proper-connectivity",
   "metadata": {},
   "outputs": [
    {
     "name": "stdout",
     "output_type": "stream",
     "text": [
      "#FREE ENERGIES ARE:\n",
      "lig_ejm_31 -0.000 +/- 0.000\n",
      "lig_ejm_42 -2.407 +/- 0.323\n",
      "lig_ejm_43 -2.278 +/- 0.318\n",
      "lig_ejm_44 -1.702 +/- 0.326\n",
      "lig_ejm_45 0.396 +/- 0.350\n",
      "lig_ejm_46 -2.467 +/- 0.393\n",
      "lig_ejm_47 0.119 +/- 0.304\n",
      "lig_ejm_48 0.924 +/- 0.325\n",
      "lig_ejm_49 0.272 +/- 0.635\n",
      "lig_ejm_50 0.382 +/- 0.363\n",
      "lig_ejm_54 -2.650 +/- 0.377\n",
      "lig_ejm_55 -1.056 +/- 0.270\n",
      "lig_jmc_23 -0.677 +/- 0.328\n",
      "lig_jmc_27 -1.170 +/- 0.379\n",
      "lig_jmc_28 -0.790 +/- 0.299\n",
      "lig_jmc_30 -2.880 +/- 0.329\n"
     ]
    }
   ],
   "source": [
    "# Add a reference compound. \n",
    "target_compound = pG.compoundList[0] #change this to your target compound\n",
    "\n",
    "pG.compute_weighted_avg_paths(target_compound)\n",
    "pG.format_free_energies(merge_BM=True,intermed_ID='INT')\n",
    "computed_relative_DDGs = pG.freeEnergyInKcal\n",
    "\n",
    "# Print estimated free energies.\n",
    "pG.write_free_energies(computed_relative_DDGs)"
   ]
  },
  {
   "cell_type": "markdown",
   "id": "coral-coffee",
   "metadata": {},
   "source": [
    "In cases we do not have a reference ligand and we do not want to sacrifice one of the ligands to act as one, we can use an alternative method which uses a weighted least squares approach. "
   ]
  },
  {
   "cell_type": "code",
   "execution_count": 5,
   "id": "partial-mapping",
   "metadata": {},
   "outputs": [],
   "source": [
    "# new code here."
   ]
  },
  {
   "cell_type": "markdown",
   "id": "altered-cliff",
   "metadata": {},
   "source": [
    "## 2. Load experimental data (if available) and compile into pandas.\n",
    "In cases where experimental data is available, for instance when benchmarking a new protein-ligand set, we would like to compare how well FEP is predicting with respect to these data. Using Pandas, we can work with our data in an intuitive way that is easy to use for plotting graphs."
   ]
  },
  {
   "cell_type": "markdown",
   "id": "fuzzy-spider",
   "metadata": {},
   "source": [
    "Load the experimental data. "
   ]
  },
  {
   "cell_type": "code",
   "execution_count": 6,
   "id": "herbal-surprise",
   "metadata": {},
   "outputs": [
    {
     "name": "stdout",
     "output_type": "stream",
     "text": [
      "Free energies computed from IC50 data: \n",
      "---------------------------------------- \n",
      "#FREE ENERGIES ARE:\n",
      "lig_ejm_31 0.000 +/- 0.413\n",
      "lig_ejm_42 -0.242 +/- 0.413\n",
      "lig_ejm_43 1.293 +/- 0.413\n",
      "lig_ejm_44 2.144 +/- 0.413\n",
      "lig_ejm_45 -0.013 +/- 0.413\n",
      "lig_ejm_46 -1.786 +/- 0.413\n",
      "lig_ejm_47 -0.155 +/- 0.413\n",
      "lig_ejm_48 0.546 +/- 0.413\n",
      "lig_ejm_49 1.810 +/- 0.413\n",
      "lig_ejm_50 0.571 +/- 0.413\n",
      "lig_ejm_54 -0.998 +/- 0.413\n",
      "lig_ejm_55 0.341 +/- 0.413\n",
      "lig_jmc_23 -2.175 +/- 0.413\n",
      "lig_jmc_27 -1.750 +/- 0.413\n",
      "lig_jmc_28 -1.445 +/- 0.413\n",
      "lig_jmc_30 -1.405 +/- 0.413\n"
     ]
    }
   ],
   "source": [
    "experiments = n_ex.ExperimentalData()\n",
    "IC_50_file = '../inputs/ic50_exp.dat'\n",
    "experiments.compute_DDG_from_IC50s(IC_50_file, reference=target_compound)\n",
    "experimental_DDGs = experiments.freeEnergiesInKcal\n",
    "print (\"Free energies computed from IC50 data: \")\n",
    "print (\"---------------------------------------- \")\n",
    "pG.write_free_energies(experimental_DDGs)"
   ]
  },
  {
   "cell_type": "markdown",
   "id": "considerable-checklist",
   "metadata": {},
   "source": [
    "For plotting it is typically easier to work with the pandas library. This next bit of code reshapes the data into a dataframe format. \n",
    "\n",
    "Note that if pandas returns value errors at this step, it is likely there are ligands missing from either your FEP outputs or your experimental input."
   ]
  },
  {
   "cell_type": "code",
   "execution_count": 7,
   "id": "union-lending",
   "metadata": {
    "scrolled": false
   },
   "outputs": [
    {
     "data": {
      "text/html": [
       "<div>\n",
       "<style scoped>\n",
       "    .dataframe tbody tr th:only-of-type {\n",
       "        vertical-align: middle;\n",
       "    }\n",
       "\n",
       "    .dataframe tbody tr th {\n",
       "        vertical-align: top;\n",
       "    }\n",
       "\n",
       "    .dataframe thead th {\n",
       "        text-align: right;\n",
       "    }\n",
       "</style>\n",
       "<table border=\"1\" class=\"dataframe\">\n",
       "  <thead>\n",
       "    <tr style=\"text-align: right;\">\n",
       "      <th></th>\n",
       "      <th>freenrg_exp</th>\n",
       "      <th>err_exp</th>\n",
       "      <th>freenrg_fep</th>\n",
       "      <th>err_fep</th>\n",
       "    </tr>\n",
       "  </thead>\n",
       "  <tbody>\n",
       "    <tr>\n",
       "      <th>lig_ejm_31</th>\n",
       "      <td>0.000000</td>\n",
       "      <td>0.413227</td>\n",
       "      <td>-0.000000</td>\n",
       "      <td>0.000000</td>\n",
       "    </tr>\n",
       "    <tr>\n",
       "      <th>lig_ejm_42</th>\n",
       "      <td>-0.241723</td>\n",
       "      <td>0.413227</td>\n",
       "      <td>-2.406762</td>\n",
       "      <td>0.322536</td>\n",
       "    </tr>\n",
       "    <tr>\n",
       "      <th>lig_ejm_43</th>\n",
       "      <td>1.293106</td>\n",
       "      <td>0.413227</td>\n",
       "      <td>-2.277699</td>\n",
       "      <td>0.317732</td>\n",
       "    </tr>\n",
       "    <tr>\n",
       "      <th>lig_ejm_44</th>\n",
       "      <td>2.143897</td>\n",
       "      <td>0.413227</td>\n",
       "      <td>-1.701578</td>\n",
       "      <td>0.326072</td>\n",
       "    </tr>\n",
       "    <tr>\n",
       "      <th>lig_ejm_45</th>\n",
       "      <td>-0.012551</td>\n",
       "      <td>0.413227</td>\n",
       "      <td>0.396358</td>\n",
       "      <td>0.350033</td>\n",
       "    </tr>\n",
       "    <tr>\n",
       "      <th>lig_ejm_46</th>\n",
       "      <td>-1.785939</td>\n",
       "      <td>0.413227</td>\n",
       "      <td>-2.467273</td>\n",
       "      <td>0.392655</td>\n",
       "    </tr>\n",
       "    <tr>\n",
       "      <th>lig_ejm_47</th>\n",
       "      <td>-0.155171</td>\n",
       "      <td>0.413227</td>\n",
       "      <td>0.119384</td>\n",
       "      <td>0.304125</td>\n",
       "    </tr>\n",
       "    <tr>\n",
       "      <th>lig_ejm_48</th>\n",
       "      <td>0.546257</td>\n",
       "      <td>0.413227</td>\n",
       "      <td>0.924028</td>\n",
       "      <td>0.324857</td>\n",
       "    </tr>\n",
       "    <tr>\n",
       "      <th>lig_ejm_49</th>\n",
       "      <td>1.810276</td>\n",
       "      <td>0.413227</td>\n",
       "      <td>0.272037</td>\n",
       "      <td>0.635433</td>\n",
       "    </tr>\n",
       "    <tr>\n",
       "      <th>lig_ejm_50</th>\n",
       "      <td>0.570594</td>\n",
       "      <td>0.413227</td>\n",
       "      <td>0.381954</td>\n",
       "      <td>0.362529</td>\n",
       "    </tr>\n",
       "    <tr>\n",
       "      <th>lig_ejm_54</th>\n",
       "      <td>-0.997960</td>\n",
       "      <td>0.413227</td>\n",
       "      <td>-2.650224</td>\n",
       "      <td>0.376558</td>\n",
       "    </tr>\n",
       "    <tr>\n",
       "      <th>lig_ejm_55</th>\n",
       "      <td>0.340676</td>\n",
       "      <td>0.413227</td>\n",
       "      <td>-1.056169</td>\n",
       "      <td>0.269663</td>\n",
       "    </tr>\n",
       "    <tr>\n",
       "      <th>lig_jmc_23</th>\n",
       "      <td>-2.174830</td>\n",
       "      <td>0.413227</td>\n",
       "      <td>-0.676827</td>\n",
       "      <td>0.328345</td>\n",
       "    </tr>\n",
       "    <tr>\n",
       "      <th>lig_jmc_27</th>\n",
       "      <td>-1.749797</td>\n",
       "      <td>0.413227</td>\n",
       "      <td>-1.169776</td>\n",
       "      <td>0.379015</td>\n",
       "    </tr>\n",
       "    <tr>\n",
       "      <th>lig_jmc_28</th>\n",
       "      <td>-1.445263</td>\n",
       "      <td>0.413227</td>\n",
       "      <td>-0.790056</td>\n",
       "      <td>0.299256</td>\n",
       "    </tr>\n",
       "    <tr>\n",
       "      <th>lig_jmc_30</th>\n",
       "      <td>-1.404600</td>\n",
       "      <td>0.413227</td>\n",
       "      <td>-2.879887</td>\n",
       "      <td>0.329460</td>\n",
       "    </tr>\n",
       "  </tbody>\n",
       "</table>\n",
       "</div>"
      ],
      "text/plain": [
       "            freenrg_exp   err_exp  freenrg_fep   err_fep\n",
       "lig_ejm_31     0.000000  0.413227    -0.000000  0.000000\n",
       "lig_ejm_42    -0.241723  0.413227    -2.406762  0.322536\n",
       "lig_ejm_43     1.293106  0.413227    -2.277699  0.317732\n",
       "lig_ejm_44     2.143897  0.413227    -1.701578  0.326072\n",
       "lig_ejm_45    -0.012551  0.413227     0.396358  0.350033\n",
       "lig_ejm_46    -1.785939  0.413227    -2.467273  0.392655\n",
       "lig_ejm_47    -0.155171  0.413227     0.119384  0.304125\n",
       "lig_ejm_48     0.546257  0.413227     0.924028  0.324857\n",
       "lig_ejm_49     1.810276  0.413227     0.272037  0.635433\n",
       "lig_ejm_50     0.570594  0.413227     0.381954  0.362529\n",
       "lig_ejm_54    -0.997960  0.413227    -2.650224  0.376558\n",
       "lig_ejm_55     0.340676  0.413227    -1.056169  0.269663\n",
       "lig_jmc_23    -2.174830  0.413227    -0.676827  0.328345\n",
       "lig_jmc_27    -1.749797  0.413227    -1.169776  0.379015\n",
       "lig_jmc_28    -1.445263  0.413227    -0.790056  0.299256\n",
       "lig_jmc_30    -1.404600  0.413227    -2.879887  0.329460"
      ]
     },
     "execution_count": 7,
     "metadata": {},
     "output_type": "execute_result"
    }
   ],
   "source": [
    "freenrg_dict = {}\n",
    "\n",
    "# construct dict with experimental freenrg and error.\n",
    "for item in experimental_DDGs:\n",
    "    ligand = list(item.keys())[0]\n",
    "    freenrg = list(item.values())[0]\n",
    "    error = list(item.values())[1]\n",
    "    freenrg_dict[ligand] = [freenrg, error]\n",
    "\n",
    "# append computed freenrg and error.\n",
    "for item in computed_relative_DDGs:\n",
    "    ligand = list(item.keys())[0]\n",
    "    freenrg = list(item.values())[0]\n",
    "    error = list(item.values())[1]\n",
    "    freenrg_dict[ligand].append(freenrg)\n",
    "    freenrg_dict[ligand].append(error)\n",
    "\n",
    "\n",
    "freenrg_df = pd.DataFrame(freenrg_dict, index=[\"freenrg_exp\", \"err_exp\", \"freenrg_fep\", \"err_fep\"]).transpose()\n",
    "freenrg_df"
   ]
  },
  {
   "cell_type": "markdown",
   "id": "short-georgia",
   "metadata": {},
   "source": [
    "## 3. Plot data with statistics.\n",
    "There are several ways to plot FEP results comparing them to experimental data. In this tutorial, we will use matplotlib and seaborn to plot a bargraph and a scatterplot, while also depicting statistics with confidence bounds. Combining these should give a good indication of whether our FEP method is able to predict reliably."
   ]
  },
  {
   "cell_type": "markdown",
   "id": "brown-dragon",
   "metadata": {},
   "source": [
    "### 3.1. Barplot"
   ]
  },
  {
   "cell_type": "code",
   "execution_count": 8,
   "id": "imperial-tonight",
   "metadata": {},
   "outputs": [
    {
     "data": {
      "image/png": "[encoded data removed]",
      "text/plain": [
       "<Figure size 720x360 with 1 Axes>"
      ]
     },
     "metadata": {
      "needs_background": "light"
     },
     "output_type": "display_data"
    }
   ],
   "source": [
    "fig, ax = plt.subplots(figsize=(10,5))\n",
    "\n",
    "# determine positions for X axis labels.\n",
    "x_locs = np.arange(len(freenrg_df))\n",
    "\n",
    "# set bar width\n",
    "width = 0.35  \n",
    "\n",
    "# plot both our experimental and FEP free energies using an offset on the x position.\n",
    "exp_bars = ax.bar(x_locs - width/2, height=freenrg_df[\"freenrg_exp\"], width=width, yerr=freenrg_df[\"err_exp\"],\n",
    "                label='Experimental')\n",
    "exp_bars = ax.bar(x_locs + width/2, height=freenrg_df[\"freenrg_fep\"], width=width, yerr=freenrg_df[\"err_fep\"],\n",
    "                label='FEP')\n",
    "\n",
    "# format the plot further.\n",
    "plt.axhline(color=\"black\")\n",
    "plt.ylabel(\"$\\Delta\\Delta$G$_{bind}$ / kcal$\\cdot$mol$^{-1}$\")\n",
    "plt.xticks(x_locs, freenrg_df.index, rotation=70, ha=\"right\")\n",
    "plt.legend()\n",
    "plt.show()"
   ]
  },
  {
   "cell_type": "markdown",
   "id": "generic-import",
   "metadata": {},
   "source": [
    "### 3.2. Scatterplot"
   ]
  },
  {
   "cell_type": "code",
   "execution_count": 10,
   "id": "growing-advocate",
   "metadata": {},
   "outputs": [
    {
     "data": {
      "text/html": [
       "<div>\n",
       "<style scoped>\n",
       "    .dataframe tbody tr th:only-of-type {\n",
       "        vertical-align: middle;\n",
       "    }\n",
       "\n",
       "    .dataframe tbody tr th {\n",
       "        vertical-align: top;\n",
       "    }\n",
       "\n",
       "    .dataframe thead th {\n",
       "        text-align: right;\n",
       "    }\n",
       "</style>\n",
       "<table border=\"1\" class=\"dataframe\">\n",
       "  <thead>\n",
       "    <tr style=\"text-align: right;\">\n",
       "      <th></th>\n",
       "      <th>freenrg_exp</th>\n",
       "      <th>err_exp</th>\n",
       "      <th>freenrg_fep</th>\n",
       "      <th>err_fep</th>\n",
       "    </tr>\n",
       "  </thead>\n",
       "  <tbody>\n",
       "    <tr>\n",
       "      <th>lig_ejm_31</th>\n",
       "      <td>0.000000</td>\n",
       "      <td>0.413227</td>\n",
       "      <td>-0.000000</td>\n",
       "      <td>0.000000</td>\n",
       "    </tr>\n",
       "    <tr>\n",
       "      <th>lig_ejm_42</th>\n",
       "      <td>-0.241723</td>\n",
       "      <td>0.413227</td>\n",
       "      <td>-2.406762</td>\n",
       "      <td>0.322536</td>\n",
       "    </tr>\n",
       "    <tr>\n",
       "      <th>lig_ejm_43</th>\n",
       "      <td>1.293106</td>\n",
       "      <td>0.413227</td>\n",
       "      <td>-2.277699</td>\n",
       "      <td>0.317732</td>\n",
       "    </tr>\n",
       "    <tr>\n",
       "      <th>lig_ejm_44</th>\n",
       "      <td>2.143897</td>\n",
       "      <td>0.413227</td>\n",
       "      <td>-1.701578</td>\n",
       "      <td>0.326072</td>\n",
       "    </tr>\n",
       "    <tr>\n",
       "      <th>lig_ejm_45</th>\n",
       "      <td>-0.012551</td>\n",
       "      <td>0.413227</td>\n",
       "      <td>0.396358</td>\n",
       "      <td>0.350033</td>\n",
       "    </tr>\n",
       "    <tr>\n",
       "      <th>lig_ejm_46</th>\n",
       "      <td>-1.785939</td>\n",
       "      <td>0.413227</td>\n",
       "      <td>-2.467273</td>\n",
       "      <td>0.392655</td>\n",
       "    </tr>\n",
       "    <tr>\n",
       "      <th>lig_ejm_47</th>\n",
       "      <td>-0.155171</td>\n",
       "      <td>0.413227</td>\n",
       "      <td>0.119384</td>\n",
       "      <td>0.304125</td>\n",
       "    </tr>\n",
       "    <tr>\n",
       "      <th>lig_ejm_48</th>\n",
       "      <td>0.546257</td>\n",
       "      <td>0.413227</td>\n",
       "      <td>0.924028</td>\n",
       "      <td>0.324857</td>\n",
       "    </tr>\n",
       "    <tr>\n",
       "      <th>lig_ejm_49</th>\n",
       "      <td>1.810276</td>\n",
       "      <td>0.413227</td>\n",
       "      <td>0.272037</td>\n",
       "      <td>0.635433</td>\n",
       "    </tr>\n",
       "    <tr>\n",
       "      <th>lig_ejm_50</th>\n",
       "      <td>0.570594</td>\n",
       "      <td>0.413227</td>\n",
       "      <td>0.381954</td>\n",
       "      <td>0.362529</td>\n",
       "    </tr>\n",
       "    <tr>\n",
       "      <th>lig_ejm_54</th>\n",
       "      <td>-0.997960</td>\n",
       "      <td>0.413227</td>\n",
       "      <td>-2.650224</td>\n",
       "      <td>0.376558</td>\n",
       "    </tr>\n",
       "    <tr>\n",
       "      <th>lig_ejm_55</th>\n",
       "      <td>0.340676</td>\n",
       "      <td>0.413227</td>\n",
       "      <td>-1.056169</td>\n",
       "      <td>0.269663</td>\n",
       "    </tr>\n",
       "    <tr>\n",
       "      <th>lig_jmc_23</th>\n",
       "      <td>-2.174830</td>\n",
       "      <td>0.413227</td>\n",
       "      <td>-0.676827</td>\n",
       "      <td>0.328345</td>\n",
       "    </tr>\n",
       "    <tr>\n",
       "      <th>lig_jmc_27</th>\n",
       "      <td>-1.749797</td>\n",
       "      <td>0.413227</td>\n",
       "      <td>-1.169776</td>\n",
       "      <td>0.379015</td>\n",
       "    </tr>\n",
       "    <tr>\n",
       "      <th>lig_jmc_28</th>\n",
       "      <td>-1.445263</td>\n",
       "      <td>0.413227</td>\n",
       "      <td>-0.790056</td>\n",
       "      <td>0.299256</td>\n",
       "    </tr>\n",
       "    <tr>\n",
       "      <th>lig_jmc_30</th>\n",
       "      <td>-1.404600</td>\n",
       "      <td>0.413227</td>\n",
       "      <td>-2.879887</td>\n",
       "      <td>0.329460</td>\n",
       "    </tr>\n",
       "  </tbody>\n",
       "</table>\n",
       "</div>"
      ],
      "text/plain": [
       "            freenrg_exp   err_exp  freenrg_fep   err_fep\n",
       "lig_ejm_31     0.000000  0.413227    -0.000000  0.000000\n",
       "lig_ejm_42    -0.241723  0.413227    -2.406762  0.322536\n",
       "lig_ejm_43     1.293106  0.413227    -2.277699  0.317732\n",
       "lig_ejm_44     2.143897  0.413227    -1.701578  0.326072\n",
       "lig_ejm_45    -0.012551  0.413227     0.396358  0.350033\n",
       "lig_ejm_46    -1.785939  0.413227    -2.467273  0.392655\n",
       "lig_ejm_47    -0.155171  0.413227     0.119384  0.304125\n",
       "lig_ejm_48     0.546257  0.413227     0.924028  0.324857\n",
       "lig_ejm_49     1.810276  0.413227     0.272037  0.635433\n",
       "lig_ejm_50     0.570594  0.413227     0.381954  0.362529\n",
       "lig_ejm_54    -0.997960  0.413227    -2.650224  0.376558\n",
       "lig_ejm_55     0.340676  0.413227    -1.056169  0.269663\n",
       "lig_jmc_23    -2.174830  0.413227    -0.676827  0.328345\n",
       "lig_jmc_27    -1.749797  0.413227    -1.169776  0.379015\n",
       "lig_jmc_28    -1.445263  0.413227    -0.790056  0.299256\n",
       "lig_jmc_30    -1.404600  0.413227    -2.879887  0.329460"
      ]
     },
     "execution_count": 10,
     "metadata": {},
     "output_type": "execute_result"
    }
   ],
   "source": [
    "freenrg_df"
   ]
  },
  {
   "cell_type": "code",
   "execution_count": 9,
   "id": "dated-crossing",
   "metadata": {},
   "outputs": [
    {
     "data": {
      "image/png": "[encoded data removed]",
      "text/plain": [
       "<Figure size 720x720 with 1 Axes>"
      ]
     },
     "metadata": {
      "needs_background": "light"
     },
     "output_type": "display_data"
    }
   ],
   "source": [
    "plt.figure(figsize=(10,10))\n",
    "\n",
    "plt.scatter(freenrg_df[\"freenrg_exp\"], freenrg_df[\"freenrg_fep\"], zorder=10)\n",
    "\n",
    "# plot 1/2 kcal bounds:\n",
    "plt.fill_between(\n",
    "\t\t\t\tx=[-15, 15], \n",
    "\t\t\t\ty2=[-14.75,15.25],\n",
    "\t\t\t\ty1=[-15.25, 14.75],\n",
    "\t\t\t\tlw=0, \n",
    "\t\t\t\tzorder=-10,\n",
    "\t\t\t\talpha=0.3,\n",
    "\t\t\t\tcolor=\"grey\")\n",
    "# upper bound:\n",
    "plt.fill_between(\n",
    "\t\t\t\tx=[-15, 15], \n",
    "\t\t\t\ty2=[-14.5, 15.5],\n",
    "\t\t\t\ty1=[-14.75, 15.25],\n",
    "\t\t\t\tlw=0, \n",
    "\t\t\t\tzorder=-10,\n",
    "\t\t\t\tcolor=\"grey\", \n",
    "\t\t\t\talpha=0.2)\n",
    "# lower bound:\n",
    "plt.fill_between(\n",
    "\t\t\t\tx=[-15, 15], \n",
    "\t\t\t\ty2=[-15.5,14.5],\n",
    "\t\t\t\ty1=[-14.75, 15.25],\n",
    "\t\t\t\tlw=0, \n",
    "\t\t\t\tzorder=-10,\n",
    "\t\t\t\tcolor=\"grey\", \n",
    "\t\t\t\talpha=0.2)\n",
    "\n",
    "# plot error bars:\n",
    "yerr = freenrg_df[\"err_fep\"]\n",
    "xerr = freenrg_df[\"err_exp\"]\n",
    "\n",
    "plt.errorbar(freenrg_df[\"freenrg_exp\"], freenrg_df[\"freenrg_fep\"], \n",
    "            yerr=yerr,\n",
    "            xerr=xerr,   # comment this line to hide experimental error bars \\\n",
    "                         # as this can sometimes overcrowd the plot.\n",
    "            ls=\"none\",\n",
    "            lw=0.5, \n",
    "            capsize=2,\n",
    "            color=\"black\",\n",
    "            zorder=5\n",
    "            )\n",
    "\n",
    "# format the plot further.\n",
    "plt.axhline(color=\"black\", zorder=1)\n",
    "plt.axvline(color=\"black\", zorder=1)\n",
    "plt.ylabel(\"Predicted $\\Delta\\Delta$G$_{bind}$ / kcal$\\cdot$mol$^{-1}$\")\n",
    "plt.xlabel(\"Experimental $\\Delta\\Delta$G$_{bind}$ / kcal$\\cdot$mol$^{-1}$\")\n",
    "\n",
    "# get the bounds. This can be done with min/max or simply by hand.\n",
    "all_freenrg_values = np.concatenate([freenrg_df[\"freenrg_exp\"].values,freenrg_df[\"freenrg_fep\"].values])\n",
    "min_lim = min(all_freenrg_values)\n",
    "max_lim = max(all_freenrg_values)\n",
    "\n",
    "# for a scatterplot we want the axis ranges to be the same. \n",
    "plt.xlim(min_lim*1.3, max_lim*1.3)\n",
    "plt.ylim(min_lim*1.3, max_lim*1.3)\n",
    "plt.show()"
   ]
  },
  {
   "cell_type": "markdown",
   "id": "overhead-cutting",
   "metadata": {},
   "source": [
    "Using matplotlib, we can annotate this plot with whatever we want. For example, let's show the names of the three most outlying ligands (based on MUE).\n",
    "\n",
    "We can construct a list of ligand names to give to matplotlib to annotate the plot with. Because this will use the coordinates of the points in the scatterplot, the number of items in the labels list must equal the number of points in the scatterplot - we can make matplotlib annotate \"nothing\" by feeding it an empty string (\"\") for points that we do not want to annotate."
   ]
  },
  {
   "cell_type": "code",
   "execution_count": 64,
   "id": "accepting-export",
   "metadata": {},
   "outputs": [],
   "source": [
    "number_outliers_to_annotate = 3"
   ]
  },
  {
   "cell_type": "code",
   "execution_count": 72,
   "id": "dangerous-transcription",
   "metadata": {},
   "outputs": [],
   "source": [
    "# get an array of the MUE values comparing experimental and FEP values. Take the absolute values.\n",
    "mue_values = abs(freenrg_df[\"freenrg_exp\"] - freenrg_df[\"freenrg_fep\"])\n",
    "\n",
    "# find the n ligand names that are outliers.\n",
    "outlier_names = mue_values.nlargest(number_outliers_to_annotate).index.values.tolist()\n",
    "\n",
    "# construct a list of labels to annotate the scatterplot with.\n",
    "annot_labels = []\n",
    "for ligand in freenrg_df.index.values:\n",
    "    # if the ligand is an outlier, append the name to the annotation labels list.\n",
    "    if ligand in outlier_names:\n",
    "        annot_labels.append(ligand)\n",
    "    else:\n",
    "        # if the ligand is not an outlier, append an empty string to the annotation labels list.\n",
    "        annot_labels.append(\"\")"
   ]
  },
  {
   "cell_type": "markdown",
   "id": "confident-modification",
   "metadata": {},
   "source": [
    "Now that we have our annotation labels ready, we can just repeat the plotting code while fedding matplotlib the annotations (bottom of cell)."
   ]
  },
  {
   "cell_type": "code",
   "execution_count": 83,
   "id": "chubby-herald",
   "metadata": {},
   "outputs": [
    {
     "data": {
      "image/png": "[encoded data removed]",
      "text/plain": [
       "<Figure size 720x720 with 1 Axes>"
      ]
     },
     "metadata": {
      "needs_background": "light"
     },
     "output_type": "display_data"
    }
   ],
   "source": [
    "plt.figure(figsize=(10,10))\n",
    "\n",
    "plt.scatter(freenrg_df[\"freenrg_exp\"], freenrg_df[\"freenrg_fep\"], zorder=10)\n",
    "\n",
    "# plot 1/2 kcal bounds:\n",
    "plt.fill_between(\n",
    "\t\t\t\tx=[-15, 15], \n",
    "\t\t\t\ty2=[-14.75,15.25],\n",
    "\t\t\t\ty1=[-15.25, 14.75],\n",
    "\t\t\t\tlw=0, \n",
    "\t\t\t\tzorder=-10,\n",
    "\t\t\t\talpha=0.3,\n",
    "\t\t\t\tcolor=\"grey\")\n",
    "# upper bound:\n",
    "plt.fill_between(\n",
    "\t\t\t\tx=[-15, 15], \n",
    "\t\t\t\ty2=[-14.5, 15.5],\n",
    "\t\t\t\ty1=[-14.75, 15.25],\n",
    "\t\t\t\tlw=0, \n",
    "\t\t\t\tzorder=-10,\n",
    "\t\t\t\tcolor=\"grey\", \n",
    "\t\t\t\talpha=0.2)\n",
    "# lower bound:\n",
    "plt.fill_between(\n",
    "\t\t\t\tx=[-15, 15], \n",
    "\t\t\t\ty2=[-15.5,14.5],\n",
    "\t\t\t\ty1=[-14.75, 15.25],\n",
    "\t\t\t\tlw=0, \n",
    "\t\t\t\tzorder=-10,\n",
    "\t\t\t\tcolor=\"grey\", \n",
    "\t\t\t\talpha=0.2)\n",
    "\n",
    "# plot error bars:\n",
    "yerr = freenrg_df[\"err_fep\"]\n",
    "xerr = freenrg_df[\"err_exp\"]\n",
    "\n",
    "plt.errorbar(freenrg_df[\"freenrg_exp\"], freenrg_df[\"freenrg_fep\"], \n",
    "            yerr=yerr,\n",
    "            xerr=xerr,   # comment this line to hide experimental error bars \\\n",
    "                         # as this can sometimes overcrowd the plot.\n",
    "            ls=\"none\",\n",
    "            lw=0.5, \n",
    "            capsize=2,\n",
    "            color=\"black\",\n",
    "            zorder=5\n",
    "            )\n",
    "\n",
    "# format the plot further.\n",
    "plt.axhline(color=\"black\", zorder=1)\n",
    "plt.axvline(color=\"black\", zorder=1)\n",
    "plt.ylabel(\"Predicted $\\Delta\\Delta$G$_{bind}$ / kcal$\\cdot$mol$^{-1}$\")\n",
    "plt.xlabel(\"Experimental $\\Delta\\Delta$G$_{bind}$ / kcal$\\cdot$mol$^{-1}$\")\n",
    "\n",
    "# get the bounds. This can be done with min/max or simply by hand.\n",
    "all_freenrg_values = np.concatenate([freenrg_df[\"freenrg_exp\"].values,freenrg_df[\"freenrg_fep\"].values])\n",
    "min_lim = min(all_freenrg_values)\n",
    "max_lim = max(all_freenrg_values)\n",
    "\n",
    "# for a scatterplot we want the axis ranges to be the same. \n",
    "plt.xlim(min_lim*1.3, max_lim*1.3)\n",
    "plt.ylim(min_lim*1.3, max_lim*1.3)\n",
    "\n",
    "########## annotate.\n",
    "for i, txt in enumerate(annot_labels):\n",
    "    plt.annotate(txt, \n",
    "                 (freenrg_df[\"freenrg_exp\"].values.tolist()[i]+0.1,  # x coordinates\n",
    "                 freenrg_df[\"freenrg_fep\"].values.tolist()[i]+0.1)   # y coordinates\n",
    "                , size=20, color=\"crimson\")\n",
    "\n",
    "\n",
    "plt.show()"
   ]
  },
  {
   "cell_type": "markdown",
   "id": "still-township",
   "metadata": {},
   "source": [
    "### 3.3. Statistical analysis.\n",
    "Error analysis on typical statistical measures: R, Mean Unsigned/Absolute Error (MUE) and Kendall Tau.\n",
    "\n",
    "Below are examples of how to re-sample from the data in order to obtain error bars on correlation coefficients,\n",
    "MUE and Kendall tau. Returned are confidence intervals of 65% and the median of the distribution. It is important to take these confidences into account as FEP predictions have a variance associated with them."
   ]
  },
  {
   "cell_type": "code",
   "execution_count": 84,
   "id": "trying-annex",
   "metadata": {},
   "outputs": [
    {
     "name": "stdout",
     "output_type": "stream",
     "text": [
      "R confidence is:   0.25 < 0.29 < 0.32\n",
      "Mue confidence is: 1.25 < 1.29 < 1.33\n",
      "tau confidence is: 0.20 < 0.23 < 0.27\n"
     ]
    }
   ],
   "source": [
    "    stats = n_stats.freeEnergyStats()\n",
    "    stats.generate_statistics(computed_relative_DDGs,experimental_DDGs,repeats=10000)\n",
    "    r_confidence = stats.R_confidence\n",
    "    tau_confidence = stats.tau_confidence\n",
    "    mue_confidence = stats.mue_confidence\n",
    "    print (\"R confidence is:   %.2f < %.2f < %.2f\" %(r_confidence[1], r_confidence[0], r_confidence[2]))\n",
    "    print (\"Mue confidence is: %.2f < %.2f < %.2f\" %(mue_confidence[1], mue_confidence[0], mue_confidence[2]))\n",
    "    print (\"tau confidence is: %.2f < %.2f < %.2f\" %(tau_confidence[1], tau_confidence[0], tau_confidence[2]))"
   ]
  }
 ],
 "metadata": {
  "kernelspec": {
   "display_name": "Python 3",
   "language": "python",
   "name": "python3"
  },
  "language_info": {
   "codemirror_mode": {
    "name": "ipython",
    "version": 3
   },
   "file_extension": ".py",
   "mimetype": "text/x-python",
   "name": "python",
   "nbconvert_exporter": "python",
   "pygments_lexer": "ipython3",
   "version": "3.7.9"
  }
 },
 "nbformat": 4,
 "nbformat_minor": 5
}
