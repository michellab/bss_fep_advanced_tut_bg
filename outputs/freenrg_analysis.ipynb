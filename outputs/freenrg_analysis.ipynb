{
 "cells": [
  {
   "cell_type": "markdown",
   "id": "atmospheric-easter",
   "metadata": {},
   "source": [
    "# Analyse FEP outputs\n",
    "## 1. Load FEP output data."
   ]
  },
  {
   "cell_type": "code",
   "execution_count": 1,
   "id": "pleasant-effectiveness",
   "metadata": {},
   "outputs": [
    {
     "name": "stdout",
     "output_type": "stream",
     "text": [
      "Populating the interactive namespace from numpy and matplotlib\n"
     ]
    },
    {
     "data": {
      "text/plain": [
       "'1.1.0'"
      ]
     },
     "execution_count": 1,
     "metadata": {},
     "output_type": "execute_result"
    }
   ],
   "source": [
    "    %pylab inline\n",
    "    import networkanalysis.networkanalysis as n_graph\n",
    "    import networkanalysis.plotting as n_plot\n",
    "    import networkanalysis.experiments as n_ex\n",
    "    import networkanalysis.stats as n_stats\n",
    "    import networkanalysis\n",
    "    \n",
    "    import pandas as pd \n",
    "    networkanalysis.__version__"
   ]
  },
  {
   "cell_type": "markdown",
   "id": "missing-consistency",
   "metadata": {},
   "source": [
    "### Variables"
   ]
  },
  {
   "cell_type": "code",
   "execution_count": 47,
   "id": "known-tennessee",
   "metadata": {},
   "outputs": [],
   "source": [
    "# a CSV file output by SOMD that contains perturbation name,free energy,confidence.\n",
    "results_filepath = '../outputs/summary.csv'\n",
    "\n",
    "# experimental values (e.g. ic50/ki) for all ligands in our set.\n",
    "exp_filepath = '../inputs/exp_data_tyk2.dat'\n",
    "\n",
    "# Add a reference compound if needed. \n",
    "target_compound = 'ejm48'\n",
    "\n",
    "# if we have added any intermediate ligands, define the regular expression here. Ligands \n",
    "# containing this pattern will be excluded from calculations that compare to experimental values.\n",
    "intermediate_string = 'jul'"
   ]
  },
  {
   "cell_type": "markdown",
   "id": "exterior-cigarette",
   "metadata": {},
   "source": [
    "Now that we have run all our simulations (which should have appended results to a file - in our case \"summary.csv\"), we can start analysing our results. Additionally, we would like to compare our predictions to experimental measures."
   ]
  },
  {
   "cell_type": "markdown",
   "id": "broke-lottery",
   "metadata": {},
   "source": [
    "We use FreeNrgWorkFlows (https://github.com/michellab/freenrgworkflows) to analyse our predictions. Instead of just computing $\\Delta\\Delta$G values for each transformation, we would like to estimate the $\\Delta$G value for each individual ligand. There are some involved algorithms needed for these steps which is what FreeNrgWorkFlows takes care of for us."
   ]
  },
  {
   "cell_type": "code",
   "execution_count": 48,
   "id": "forced-target",
   "metadata": {},
   "outputs": [],
   "source": [
    "# Creating the perturbation network to do calculations on.\n",
    "pG = n_graph.PerturbationGraph()\n",
    "\n",
    "# Populate the network with our simulation results.\n",
    "pG.populate_pert_graph(results_filepath)\n",
    "\n",
    "# Uncomment below if you have run multiple runs for some/all perturbations to add file path.\n",
    "#pG.add_data_to_graph('/path/to/additional/runs.csv')"
   ]
  },
  {
   "cell_type": "markdown",
   "id": "separate-filling",
   "metadata": {},
   "source": [
    "To estimate $\\Delta$G values for individual compounds, we need to pick a reference compound. Often in industrial FEP programs this would be the ligand that is being optimised."
   ]
  },
  {
   "cell_type": "code",
   "execution_count": 49,
   "id": "proper-connectivity",
   "metadata": {},
   "outputs": [
    {
     "name": "stdout",
     "output_type": "stream",
     "text": [
      "#FREE ENERGIES ARE:\n",
      "ejm31      -0.303 +/- 0.274\n",
      "ejm42      -0.652 +/- 0.281\n",
      "ejm43      0.524 +/- 0.314\n",
      "ejm44      2.349 +/- 0.316\n",
      "ejm45      -0.897 +/- 0.274\n",
      "ejm46      -0.729 +/- 0.416\n",
      "ejm47      -0.000 +/- 0.269\n",
      "ejm48      -0.000 +/- 0.000\n",
      "ejm49      0.050 +/- 0.257\n",
      "ejm50      -0.101 +/- 0.280\n",
      "ejm54      -1.352 +/- 0.372\n",
      "ejm55      -1.022 +/- 0.369\n",
      "jmc23      -1.409 +/- 0.409\n",
      "jmc27      -1.112 +/- 0.409\n",
      "jmc28      -0.236 +/- 0.405\n",
      "jmc30      -1.410 +/- 0.428\n"
     ]
    }
   ],
   "source": [
    "pG.compute_weighted_avg_paths(target_compound)\n",
    "\n",
    "# we can exclude intermediate ligands by defining their regular expression.\n",
    "pG.format_free_energies(merge_BM=True,intermed_ID=intermediate_string)\n",
    "\n",
    "computed_relative_DDGs = pG.freeEnergyInKcal\n",
    "\n",
    "# Print estimated free energies.\n",
    "pG.write_free_energies(computed_relative_DDGs)"
   ]
  },
  {
   "cell_type": "markdown",
   "id": "coral-coffee",
   "metadata": {},
   "source": [
    "In cases we do not have a reference ligand and we do not want to sacrifice one of the ligands to act as one, we can use an alternative method which uses a weighted least squares approach. "
   ]
  },
  {
   "cell_type": "code",
   "execution_count": 50,
   "id": "partial-mapping",
   "metadata": {},
   "outputs": [],
   "source": [
    "# new code here."
   ]
  },
  {
   "cell_type": "markdown",
   "id": "altered-cliff",
   "metadata": {},
   "source": [
    "## 2. Load experimental data (if available) and compile into pandas.\n",
    "In cases where experimental data is available, for instance when benchmarking a new protein-ligand set, we would like to compare how well FEP is predicting with respect to these data. Using Pandas, we can work with our data in an intuitive way that is easy to use for plotting graphs."
   ]
  },
  {
   "cell_type": "markdown",
   "id": "fuzzy-spider",
   "metadata": {},
   "source": [
    "Load the experimental data. "
   ]
  },
  {
   "cell_type": "code",
   "execution_count": 51,
   "id": "herbal-surprise",
   "metadata": {},
   "outputs": [
    {
     "name": "stdout",
     "output_type": "stream",
     "text": [
      "Free energies computed from IC50 data: \n",
      "---------------------------------------- \n",
      "#FREE ENERGIES ARE:\n",
      "ejm31      -0.546 +/- 0.413\n",
      "ejm42      -0.788 +/- 0.413\n",
      "ejm43      0.747 +/- 0.413\n",
      "ejm44      1.598 +/- 0.413\n",
      "ejm45      -0.559 +/- 0.413\n",
      "ejm46      -2.332 +/- 0.413\n",
      "ejm47      -0.701 +/- 0.413\n",
      "ejm48      0.000 +/- 0.413\n",
      "ejm49      1.264 +/- 0.413\n",
      "ejm50      0.024 +/- 0.413\n",
      "ejm54      -1.544 +/- 0.413\n",
      "ejm55      -0.206 +/- 0.413\n",
      "jmc23      -2.721 +/- 0.413\n",
      "jmc27      -2.296 +/- 0.413\n",
      "jmc28      -1.992 +/- 0.413\n",
      "jmc30      -1.951 +/- 0.413\n"
     ]
    }
   ],
   "source": [
    "experiments = n_ex.ExperimentalData()\n",
    "\n",
    "experiments.compute_DDG_from_IC50s(exp_filepath, reference=target_compound)\n",
    "experimental_DDGs = experiments.freeEnergiesInKcal\n",
    "print (\"Free energies computed from IC50 data: \")\n",
    "print (\"---------------------------------------- \")\n",
    "pG.write_free_energies(experimental_DDGs)"
   ]
  },
  {
   "cell_type": "markdown",
   "id": "considerable-checklist",
   "metadata": {},
   "source": [
    "For plotting it is typically easier to work with the pandas library. This next bit of code reshapes the data into a dataframe format. \n",
    "\n",
    "Note that if pandas returns value errors at this step, it is likely there are ligands missing from either your FEP outputs or your experimental input."
   ]
  },
  {
   "cell_type": "code",
   "execution_count": 52,
   "id": "union-lending",
   "metadata": {
    "scrolled": false
   },
   "outputs": [
    {
     "data": {
      "text/html": [
       "<div>\n",
       "<style scoped>\n",
       "    .dataframe tbody tr th:only-of-type {\n",
       "        vertical-align: middle;\n",
       "    }\n",
       "\n",
       "    .dataframe tbody tr th {\n",
       "        vertical-align: top;\n",
       "    }\n",
       "\n",
       "    .dataframe thead th {\n",
       "        text-align: right;\n",
       "    }\n",
       "</style>\n",
       "<table border=\"1\" class=\"dataframe\">\n",
       "  <thead>\n",
       "    <tr style=\"text-align: right;\">\n",
       "      <th></th>\n",
       "      <th>freenrg_exp</th>\n",
       "      <th>err_exp</th>\n",
       "      <th>freenrg_fep</th>\n",
       "      <th>err_fep</th>\n",
       "    </tr>\n",
       "  </thead>\n",
       "  <tbody>\n",
       "    <tr>\n",
       "      <th>ejm48</th>\n",
       "      <td>0.000000</td>\n",
       "      <td>0.413227</td>\n",
       "      <td>-0.000000e+00</td>\n",
       "      <td>0.000000</td>\n",
       "    </tr>\n",
       "    <tr>\n",
       "      <th>ejm55</th>\n",
       "      <td>-0.205581</td>\n",
       "      <td>0.413227</td>\n",
       "      <td>-1.021525e+00</td>\n",
       "      <td>0.369069</td>\n",
       "    </tr>\n",
       "    <tr>\n",
       "      <th>jmc23</th>\n",
       "      <td>-2.721087</td>\n",
       "      <td>0.413227</td>\n",
       "      <td>-1.409447e+00</td>\n",
       "      <td>0.409094</td>\n",
       "    </tr>\n",
       "    <tr>\n",
       "      <th>ejm31</th>\n",
       "      <td>-0.546257</td>\n",
       "      <td>0.413227</td>\n",
       "      <td>-3.033343e-01</td>\n",
       "      <td>0.273785</td>\n",
       "    </tr>\n",
       "    <tr>\n",
       "      <th>jmc27</th>\n",
       "      <td>-2.296054</td>\n",
       "      <td>0.413227</td>\n",
       "      <td>-1.112132e+00</td>\n",
       "      <td>0.409119</td>\n",
       "    </tr>\n",
       "    <tr>\n",
       "      <th>ejm45</th>\n",
       "      <td>-0.558808</td>\n",
       "      <td>0.413227</td>\n",
       "      <td>-8.966657e-01</td>\n",
       "      <td>0.273785</td>\n",
       "    </tr>\n",
       "    <tr>\n",
       "      <th>ejm46</th>\n",
       "      <td>-2.332196</td>\n",
       "      <td>0.413227</td>\n",
       "      <td>-7.290475e-01</td>\n",
       "      <td>0.416067</td>\n",
       "    </tr>\n",
       "    <tr>\n",
       "      <th>ejm54</th>\n",
       "      <td>-1.544217</td>\n",
       "      <td>0.413227</td>\n",
       "      <td>-1.352230e+00</td>\n",
       "      <td>0.372112</td>\n",
       "    </tr>\n",
       "    <tr>\n",
       "      <th>ejm47</th>\n",
       "      <td>-0.701428</td>\n",
       "      <td>0.413227</td>\n",
       "      <td>-1.318945e-16</td>\n",
       "      <td>0.269258</td>\n",
       "    </tr>\n",
       "    <tr>\n",
       "      <th>ejm44</th>\n",
       "      <td>1.597640</td>\n",
       "      <td>0.413227</td>\n",
       "      <td>2.348598e+00</td>\n",
       "      <td>0.316263</td>\n",
       "    </tr>\n",
       "    <tr>\n",
       "      <th>ejm43</th>\n",
       "      <td>0.746849</td>\n",
       "      <td>0.413227</td>\n",
       "      <td>5.240813e-01</td>\n",
       "      <td>0.313759</td>\n",
       "    </tr>\n",
       "    <tr>\n",
       "      <th>jmc28</th>\n",
       "      <td>-1.991520</td>\n",
       "      <td>0.413227</td>\n",
       "      <td>-2.362505e-01</td>\n",
       "      <td>0.405239</td>\n",
       "    </tr>\n",
       "    <tr>\n",
       "      <th>ejm49</th>\n",
       "      <td>1.264019</td>\n",
       "      <td>0.413227</td>\n",
       "      <td>5.000000e-02</td>\n",
       "      <td>0.257391</td>\n",
       "    </tr>\n",
       "    <tr>\n",
       "      <th>ejm50</th>\n",
       "      <td>0.024336</td>\n",
       "      <td>0.413227</td>\n",
       "      <td>-1.007951e-01</td>\n",
       "      <td>0.280483</td>\n",
       "    </tr>\n",
       "    <tr>\n",
       "      <th>jmc30</th>\n",
       "      <td>-1.950857</td>\n",
       "      <td>0.413227</td>\n",
       "      <td>-1.410062e+00</td>\n",
       "      <td>0.428477</td>\n",
       "    </tr>\n",
       "  </tbody>\n",
       "</table>\n",
       "</div>"
      ],
      "text/plain": [
       "       freenrg_exp   err_exp   freenrg_fep   err_fep\n",
       "ejm48     0.000000  0.413227 -0.000000e+00  0.000000\n",
       "ejm55    -0.205581  0.413227 -1.021525e+00  0.369069\n",
       "jmc23    -2.721087  0.413227 -1.409447e+00  0.409094\n",
       "ejm31    -0.546257  0.413227 -3.033343e-01  0.273785\n",
       "jmc27    -2.296054  0.413227 -1.112132e+00  0.409119\n",
       "ejm45    -0.558808  0.413227 -8.966657e-01  0.273785\n",
       "ejm46    -2.332196  0.413227 -7.290475e-01  0.416067\n",
       "ejm54    -1.544217  0.413227 -1.352230e+00  0.372112\n",
       "ejm47    -0.701428  0.413227 -1.318945e-16  0.269258\n",
       "ejm44     1.597640  0.413227  2.348598e+00  0.316263\n",
       "ejm43     0.746849  0.413227  5.240813e-01  0.313759\n",
       "jmc28    -1.991520  0.413227 -2.362505e-01  0.405239\n",
       "ejm49     1.264019  0.413227  5.000000e-02  0.257391\n",
       "ejm50     0.024336  0.413227 -1.007951e-01  0.280483\n",
       "jmc30    -1.950857  0.413227 -1.410062e+00  0.428477"
      ]
     },
     "execution_count": 52,
     "metadata": {},
     "output_type": "execute_result"
    }
   ],
   "source": [
    "freenrg_dict = {}\n",
    "\n",
    "# construct dict with experimental freenrg and error.\n",
    "for item in experimental_DDGs:\n",
    "    ligand = list(item.keys())[0]\n",
    "    freenrg = list(item.values())[0]\n",
    "    error = list(item.values())[1]\n",
    "    freenrg_dict[ligand] = [freenrg, error]\n",
    "\n",
    "# append computed freenrg and error.\n",
    "for item in computed_relative_DDGs:\n",
    "    ligand = list(item.keys())[0]\n",
    "    freenrg = list(item.values())[0]\n",
    "    error = list(item.values())[1]\n",
    "    freenrg_dict[ligand].append(freenrg)\n",
    "    freenrg_dict[ligand].append(error)\n",
    "\n",
    "\n",
    "freenrg_df = pd.DataFrame(freenrg_dict, index=[\"freenrg_exp\", \"err_exp\", \"freenrg_fep\", \"err_fep\"]).transpose()\n",
    "\n",
    "freenrg_df = freenrg_df.sample(15)\n",
    "freenrg_df"
   ]
  },
  {
   "cell_type": "markdown",
   "id": "short-georgia",
   "metadata": {},
   "source": [
    "## 3. Plot data with statistics.\n",
    "There are several ways to plot FEP results comparing them to experimental data. In this tutorial, we will use matplotlib and seaborn to plot a bargraph and a scatterplot, while also depicting statistics with confidence bounds. Combining these should give a good indication of whether our FEP method is able to predict reliably."
   ]
  },
  {
   "cell_type": "markdown",
   "id": "brown-dragon",
   "metadata": {},
   "source": [
    "### 3.1. Barplot"
   ]
  },
  {
   "cell_type": "code",
   "execution_count": 53,
   "id": "imperial-tonight",
   "metadata": {},
   "outputs": [
    {
     "data": {
      "image/png": "[encoded data removed]",
      "text/plain": [
       "<Figure size 720x360 with 1 Axes>"
      ]
     },
     "metadata": {
      "needs_background": "light"
     },
     "output_type": "display_data"
    }
   ],
   "source": [
    "fig, ax = plt.subplots(figsize=(10,5))\n",
    "\n",
    "# determine positions for X axis labels.\n",
    "x_locs = np.arange(len(freenrg_df))\n",
    "\n",
    "# set bar width\n",
    "width = 0.35  \n",
    "\n",
    "# plot both our experimental and FEP free energies using an offset on the x position.\n",
    "exp_bars = ax.bar(x_locs - width/2, height=freenrg_df[\"freenrg_exp\"], width=width, yerr=freenrg_df[\"err_exp\"],\n",
    "                label='Experimental')\n",
    "exp_bars = ax.bar(x_locs + width/2, height=freenrg_df[\"freenrg_fep\"], width=width, yerr=freenrg_df[\"err_fep\"],\n",
    "                label='FEP')\n",
    "\n",
    "# format the plot further.\n",
    "plt.axhline(color=\"black\")\n",
    "plt.ylabel(\"$\\Delta\\Delta$G$_{bind}$ / kcal$\\cdot$mol$^{-1}$\")\n",
    "plt.xticks(x_locs, freenrg_df.index, rotation=70, ha=\"right\")\n",
    "plt.legend()\n",
    "plt.show()"
   ]
  },
  {
   "cell_type": "markdown",
   "id": "generic-import",
   "metadata": {},
   "source": [
    "### 3.2. Scatterplot"
   ]
  },
  {
   "cell_type": "code",
   "execution_count": 54,
   "id": "dated-crossing",
   "metadata": {},
   "outputs": [
    {
     "data": {
      "image/png": "[encoded data removed]",
      "text/plain": [
       "<Figure size 720x720 with 1 Axes>"
      ]
     },
     "metadata": {
      "needs_background": "light"
     },
     "output_type": "display_data"
    }
   ],
   "source": [
    "plt.figure(figsize=(10,10))\n",
    "\n",
    "plt.scatter(freenrg_df[\"freenrg_exp\"], freenrg_df[\"freenrg_fep\"], zorder=10)\n",
    "\n",
    "# plot 1/2 kcal bounds:\n",
    "plt.fill_between(\n",
    "\t\t\t\tx=[-15, 15], \n",
    "\t\t\t\ty2=[-14.75,15.25],\n",
    "\t\t\t\ty1=[-15.25, 14.75],\n",
    "\t\t\t\tlw=0, \n",
    "\t\t\t\tzorder=-10,\n",
    "\t\t\t\talpha=0.3,\n",
    "\t\t\t\tcolor=\"grey\")\n",
    "# upper bound:\n",
    "plt.fill_between(\n",
    "\t\t\t\tx=[-15, 15], \n",
    "\t\t\t\ty2=[-14.5, 15.5],\n",
    "\t\t\t\ty1=[-14.75, 15.25],\n",
    "\t\t\t\tlw=0, \n",
    "\t\t\t\tzorder=-10,\n",
    "\t\t\t\tcolor=\"grey\", \n",
    "\t\t\t\talpha=0.2)\n",
    "# lower bound:\n",
    "plt.fill_between(\n",
    "\t\t\t\tx=[-15, 15], \n",
    "\t\t\t\ty2=[-15.5,14.5],\n",
    "\t\t\t\ty1=[-14.75, 15.25],\n",
    "\t\t\t\tlw=0, \n",
    "\t\t\t\tzorder=-10,\n",
    "\t\t\t\tcolor=\"grey\", \n",
    "\t\t\t\talpha=0.2)\n",
    "\n",
    "# plot error bars:\n",
    "yerr = freenrg_df[\"err_fep\"]\n",
    "xerr = freenrg_df[\"err_exp\"]\n",
    "\n",
    "plt.errorbar(freenrg_df[\"freenrg_exp\"], freenrg_df[\"freenrg_fep\"], \n",
    "            yerr=yerr,\n",
    "            xerr=xerr,   # comment this line to hide experimental error bars \\\n",
    "                         # as this can sometimes overcrowd the plot.\n",
    "            ls=\"none\",\n",
    "            lw=0.5, \n",
    "            capsize=2,\n",
    "            color=\"black\",\n",
    "            zorder=5\n",
    "            )\n",
    "\n",
    "# format the plot further.\n",
    "plt.axhline(color=\"black\", zorder=1)\n",
    "plt.axvline(color=\"black\", zorder=1)\n",
    "plt.ylabel(\"Predicted $\\Delta\\Delta$G$_{bind}$ / kcal$\\cdot$mol$^{-1}$\")\n",
    "plt.xlabel(\"Experimental $\\Delta\\Delta$G$_{bind}$ / kcal$\\cdot$mol$^{-1}$\")\n",
    "\n",
    "# get the bounds. This can be done with min/max or simply by hand.\n",
    "all_freenrg_values = np.concatenate([freenrg_df[\"freenrg_exp\"].values,freenrg_df[\"freenrg_fep\"].values])\n",
    "min_lim = min(all_freenrg_values)\n",
    "max_lim = max(all_freenrg_values)\n",
    "\n",
    "# for a scatterplot we want the axis ranges to be the same. \n",
    "plt.xlim(min_lim*1.3, max_lim*1.3)\n",
    "plt.ylim(min_lim*1.3, max_lim*1.3)\n",
    "\n",
    "plt.show()"
   ]
  },
  {
   "cell_type": "markdown",
   "id": "overhead-cutting",
   "metadata": {},
   "source": [
    "Using matplotlib, we can annotate this plot with whatever we want. For example, let's show the names of the three most outlying ligands (based on MUE).\n",
    "\n",
    "We can construct a list of ligand names to give to matplotlib to annotate the plot with. Because this will use the coordinates of the points in the scatterplot, the number of items in the labels list must equal the number of points in the scatterplot - we can make matplotlib annotate \"nothing\" by feeding it an empty string (\"\") for points that we do not want to annotate."
   ]
  },
  {
   "cell_type": "code",
   "execution_count": 55,
   "id": "accepting-export",
   "metadata": {},
   "outputs": [],
   "source": [
    "number_outliers_to_annotate = 3"
   ]
  },
  {
   "cell_type": "code",
   "execution_count": 56,
   "id": "dangerous-transcription",
   "metadata": {},
   "outputs": [],
   "source": [
    "# get an array of the MUE values comparing experimental and FEP values. Take the absolute values.\n",
    "mue_values = abs(freenrg_df[\"freenrg_exp\"] - freenrg_df[\"freenrg_fep\"])\n",
    "\n",
    "# find the n ligand names that are outliers.\n",
    "outlier_names = mue_values.nlargest(number_outliers_to_annotate).index.values.tolist()\n",
    "\n",
    "# construct a list of labels to annotate the scatterplot with.\n",
    "annot_labels = []\n",
    "for ligand in freenrg_df.index.values:\n",
    "    # if the ligand is an outlier, append the name to the annotation labels list.\n",
    "    if ligand in outlier_names:\n",
    "        annot_labels.append(ligand)\n",
    "    else:\n",
    "        # if the ligand is not an outlier, append an empty string to the annotation labels list.\n",
    "        annot_labels.append(\"\")"
   ]
  },
  {
   "cell_type": "markdown",
   "id": "confident-modification",
   "metadata": {},
   "source": [
    "Now that we have our annotation labels ready, we can just repeat the plotting code while fedding matplotlib the annotations (bottom of cell)."
   ]
  },
  {
   "cell_type": "code",
   "execution_count": 57,
   "id": "chubby-herald",
   "metadata": {},
   "outputs": [
    {
     "data": {
      "image/png": "[encoded data removed]",
      "text/plain": [
       "<Figure size 720x720 with 1 Axes>"
      ]
     },
     "metadata": {
      "needs_background": "light"
     },
     "output_type": "display_data"
    }
   ],
   "source": [
    "plt.figure(figsize=(10,10))\n",
    "\n",
    "plt.scatter(freenrg_df[\"freenrg_exp\"], freenrg_df[\"freenrg_fep\"], zorder=10)\n",
    "\n",
    "# plot 1/2 kcal bounds:\n",
    "plt.fill_between(\n",
    "\t\t\t\tx=[-15, 15], \n",
    "\t\t\t\ty2=[-14.75,15.25],\n",
    "\t\t\t\ty1=[-15.25, 14.75],\n",
    "\t\t\t\tlw=0, \n",
    "\t\t\t\tzorder=-10,\n",
    "\t\t\t\talpha=0.3,\n",
    "\t\t\t\tcolor=\"grey\")\n",
    "# upper bound:\n",
    "plt.fill_between(\n",
    "\t\t\t\tx=[-15, 15], \n",
    "\t\t\t\ty2=[-14.5, 15.5],\n",
    "\t\t\t\ty1=[-14.75, 15.25],\n",
    "\t\t\t\tlw=0, \n",
    "\t\t\t\tzorder=-10,\n",
    "\t\t\t\tcolor=\"grey\", \n",
    "\t\t\t\talpha=0.2)\n",
    "# lower bound:\n",
    "plt.fill_between(\n",
    "\t\t\t\tx=[-15, 15], \n",
    "\t\t\t\ty2=[-15.5,14.5],\n",
    "\t\t\t\ty1=[-14.75, 15.25],\n",
    "\t\t\t\tlw=0, \n",
    "\t\t\t\tzorder=-10,\n",
    "\t\t\t\tcolor=\"grey\", \n",
    "\t\t\t\talpha=0.2)\n",
    "\n",
    "# plot error bars:\n",
    "yerr = freenrg_df[\"err_fep\"]\n",
    "xerr = freenrg_df[\"err_exp\"]\n",
    "\n",
    "plt.errorbar(freenrg_df[\"freenrg_exp\"], freenrg_df[\"freenrg_fep\"], \n",
    "            yerr=yerr,\n",
    "            xerr=xerr,   # comment this line to hide experimental error bars \\\n",
    "                         # as this can sometimes overcrowd the plot.\n",
    "            ls=\"none\",\n",
    "            lw=0.5, \n",
    "            capsize=2,\n",
    "            color=\"black\",\n",
    "            zorder=5\n",
    "            )\n",
    "\n",
    "# format the plot further.\n",
    "plt.axhline(color=\"black\", zorder=1)\n",
    "plt.axvline(color=\"black\", zorder=1)\n",
    "plt.ylabel(\"Predicted $\\Delta\\Delta$G$_{bind}$ / kcal$\\cdot$mol$^{-1}$\")\n",
    "plt.xlabel(\"Experimental $\\Delta\\Delta$G$_{bind}$ / kcal$\\cdot$mol$^{-1}$\")\n",
    "\n",
    "# get the bounds. This can be done with min/max or simply by hand.\n",
    "all_freenrg_values = np.concatenate([freenrg_df[\"freenrg_exp\"].values,freenrg_df[\"freenrg_fep\"].values])\n",
    "min_lim = min(all_freenrg_values)\n",
    "max_lim = max(all_freenrg_values)\n",
    "\n",
    "# for a scatterplot we want the axis ranges to be the same. \n",
    "plt.xlim(min_lim*1.3, max_lim*1.3)\n",
    "plt.ylim(min_lim*1.3, max_lim*1.3)\n",
    "\n",
    "########## annotate.\n",
    "for i, txt in enumerate(annot_labels):\n",
    "    plt.annotate(txt, \n",
    "                 (freenrg_df[\"freenrg_exp\"].values.tolist()[i]+0.1,  # x coordinates\n",
    "                 freenrg_df[\"freenrg_fep\"].values.tolist()[i]+0.1)   # y coordinates\n",
    "                , size=20, color=\"crimson\")\n",
    "\n",
    "\n",
    "plt.show()"
   ]
  },
  {
   "cell_type": "markdown",
   "id": "still-township",
   "metadata": {},
   "source": [
    "### 3.3. Statistical analysis.\n",
    "Error analysis on typical statistical measures: R, Mean Unsigned/Absolute Error (MUE) and Kendall Tau.\n",
    "\n",
    "Below are examples of how to re-sample from the data in order to obtain error bars on correlation coefficients,\n",
    "MUE and Kendall tau. Returned are confidence intervals of 65% and the median of the distribution. It is important to take these confidences into account as FEP predictions have a variance associated with them."
   ]
  },
  {
   "cell_type": "code",
   "execution_count": 58,
   "id": "trying-annex",
   "metadata": {},
   "outputs": [
    {
     "name": "stdout",
     "output_type": "stream",
     "text": [
      "R confidence is:   0.70 < 0.73 < 0.76\n",
      "MUE confidence is: 0.70 < 0.73 < 0.77\n",
      "Tau confidence is: 0.48 < 0.53 < 0.57\n"
     ]
    }
   ],
   "source": [
    "    stats = n_stats.freeEnergyStats()\n",
    "    stats.generate_statistics(computed_relative_DDGs,experimental_DDGs,repeats=10000)\n",
    "    r_confidence = stats.R_confidence\n",
    "    tau_confidence = stats.tau_confidence\n",
    "    mue_confidence = stats.mue_confidence\n",
    "    print (\"R confidence is:   %.2f < %.2f < %.2f\" %(r_confidence[1], r_confidence[0], r_confidence[2]))\n",
    "    print (\"MUE confidence is: %.2f < %.2f < %.2f\" %(mue_confidence[1], mue_confidence[0], mue_confidence[2]))\n",
    "    print (\"Tau confidence is: %.2f < %.2f < %.2f\" %(tau_confidence[1], tau_confidence[0], tau_confidence[2]))"
   ]
  }
 ],
 "metadata": {
  "kernelspec": {
   "display_name": "Python 3",
   "language": "python",
   "name": "python3"
  },
  "language_info": {
   "codemirror_mode": {
    "name": "ipython",
    "version": 3
   },
   "file_extension": ".py",
   "mimetype": "text/x-python",
   "name": "python",
   "nbconvert_exporter": "python",
   "pygments_lexer": "ipython3",
   "version": "3.7.9"
  }
 },
 "nbformat": 4,
 "nbformat_minor": 5
}
